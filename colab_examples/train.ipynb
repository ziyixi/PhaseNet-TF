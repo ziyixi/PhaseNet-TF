{
 "cells": [
  {
   "cell_type": "markdown",
   "metadata": {},
   "source": [
    "# set_up_training_dataset\n",
    "This notebook is designed to provide an example how to train PhaseNet-TF."
   ]
  }
 ],
 "metadata": {
  "kernelspec": {
   "display_name": "phasenet-tf-Rv4vOYtk-py3.9",
   "language": "python",
   "name": "python3"
  },
  "language_info": {
   "name": "python",
   "version": "3.9.13"
  }
 },
 "nbformat": 4,
 "nbformat_minor": 2
}
